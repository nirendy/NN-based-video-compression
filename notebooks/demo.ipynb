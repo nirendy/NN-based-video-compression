{
 "cells": [
  {
   "cell_type": "markdown",
   "id": "20599478-ddbe-4ef9-9a7c-64df395be2f4",
   "metadata": {},
   "source": [
    "# Setup"
   ]
  },
  {
   "cell_type": "markdown",
   "id": "c2c02246-95b4-422c-92d9-ac9325862e72",
   "metadata": {},
   "source": [
    "## Imports"
   ]
  },
  {
   "cell_type": "code",
   "execution_count": 232,
   "id": "ef112a66-9637-4616-99e4-e24062413f9c",
   "metadata": {},
   "outputs": [],
   "source": [
    "import numpy as np\n",
    "import math\n",
    "import cv2\n",
    "import random\n",
    "from tqdm import tqdm\n",
    "import os\n",
    "from vidgear.gears import WriteGear"
   ]
  },
  {
   "cell_type": "markdown",
   "id": "06f34ca8-be02-4d13-b255-61de7a8900fa",
   "metadata": {},
   "source": [
    "## Consts"
   ]
  },
  {
   "cell_type": "code",
   "execution_count": 1,
   "id": "feeac196-976b-4a6f-b2f3-7d5fcdaaf23b",
   "metadata": {},
   "outputs": [],
   "source": [
    "VIDEO_PATH = '../video_examples/SampleVideo_1280x720_1mb.mp4'"
   ]
  },
  {
   "cell_type": "code",
   "execution_count": 465,
   "id": "efb22317-d462-4ccb-bc49-6f1d16af6d2e",
   "metadata": {},
   "outputs": [],
   "source": [
    "N_NON_PREDICTED_FRAMES = 4"
   ]
  },
  {
   "cell_type": "markdown",
   "id": "c66199b3-77af-4c6e-8c5e-f9f1a7b4da65",
   "metadata": {},
   "source": [
    "## Helpers"
   ]
  },
  {
   "cell_type": "code",
   "execution_count": 394,
   "id": "6edcf2bd-78d2-440c-8f9d-89b2d0297eca",
   "metadata": {},
   "outputs": [],
   "source": [
    "def add_title(frame, title):\n",
    "    black = [0,0,0]\n",
    "    constant = cv2.copyMakeBorder(frame,10,10,10,10,cv2.BORDER_CONSTANT,value=black)\n",
    "    \n",
    "    violet= np.zeros((100, constant.shape[1], 3), np.uint8)\n",
    "    violet[:] = (255, 0, 180)\n",
    "    \n",
    "    vcat = cv2.vconcat((violet, constant))\n",
    "\n",
    "    font = cv2.FONT_HERSHEY_SIMPLEX\n",
    "    cv2.putText(vcat, title, (30,50), font, 2,(0,0,0), 3, 0)\n",
    "    \n",
    "    \n",
    "    return vcat"
   ]
  },
  {
   "cell_type": "markdown",
   "id": "31cdae50-0981-4156-a992-69a1100aef47",
   "metadata": {},
   "source": [
    "# Process"
   ]
  },
  {
   "cell_type": "markdown",
   "id": "e077644d-e9a9-4bd7-9607-6c79730f538f",
   "metadata": {},
   "source": [
    "## Pre Training"
   ]
  },
  {
   "cell_type": "code",
   "execution_count": 435,
   "id": "1d14379d-fa72-49ce-950c-11b53c945a3a",
   "metadata": {},
   "outputs": [],
   "source": [
    "class ModelAPI():\n",
    "    def __init__(self, model):\n",
    "        self.model = model\n",
    "    \n",
    "    def fine_tune(self, original_video):\n",
    "        kernel = np.ones((5,5),np.float32)/25\n",
    "                \n",
    "        def model(prev_frames):\n",
    "#             return prev_frames[-1]\n",
    "            return cv2.filter2D(prev_frames[-1],-1,kernel)\n",
    "        \n",
    "        self.model = model\n",
    "    \n",
    "    def predict(self, prev_frames):\n",
    "        return self.model(prev_frames)"
   ]
  },
  {
   "cell_type": "code",
   "execution_count": 436,
   "id": "18758960-6784-4eb8-b5a5-5ad464cffd74",
   "metadata": {},
   "outputs": [],
   "source": [
    "def load_model():\n",
    "    def model(prev_frames):\n",
    "        raise Exception('Model not fine tuned')\n",
    "        \n",
    "    return ModelAPI(model)"
   ]
  },
  {
   "cell_type": "markdown",
   "id": "468b1174-37f8-42b7-b33d-707b88f73375",
   "metadata": {},
   "source": [
    "## Compression"
   ]
  },
  {
   "cell_type": "code",
   "execution_count": 438,
   "id": "e83cb883-a9d1-4a73-ac00-b41601c020b6",
   "metadata": {},
   "outputs": [],
   "source": [
    "model_api = load_model()"
   ]
  },
  {
   "cell_type": "code",
   "execution_count": 447,
   "id": "156e2653-a3fc-4d62-b376-42af52b0213f",
   "metadata": {},
   "outputs": [
    {
     "data": {
      "text/plain": [
       "(132, 720, 1280, 3)"
      ]
     },
     "metadata": {},
     "output_type": "display_data"
    },
    {
     "name": "stderr",
     "output_type": "stream",
     "text": [
      "100%|██████████| 132/132 [00:00<00:00, 423.42it/s]\n"
     ]
    }
   ],
   "source": [
    "# Reading video\n",
    "cap = cv2.VideoCapture(VIDEO_PATH)\n",
    "frameCount = int(cap.get(cv2.CAP_PROP_FRAME_COUNT))\n",
    "frameWidth = int(cap.get(cv2.CAP_PROP_FRAME_WIDTH))\n",
    "frameHeight = int(cap.get(cv2.CAP_PROP_FRAME_HEIGHT))\n",
    "\n",
    "# Initializing frames\n",
    "frames = {\n",
    "    k: np.empty((frameCount, frameHeight, frameWidth, 3), np.dtype('uint8'))\n",
    "    for k in ['original', 'original_diffs', 'original_prev', 'predicted',  'predicted_diffs', 'filler']\n",
    "}\n",
    "\n",
    "# Printing video shape\n",
    "display(frames['original'].shape)\n",
    "\n",
    "for frame_i in tqdm(range(frameCount), total=frameCount):\n",
    "    # Reading next frame\n",
    "    ret,frames['original'][frame_i] = cap.read()\n",
    "    if not ret:\n",
    "        break\n",
    "\n",
    "cap.release()"
   ]
  },
  {
   "cell_type": "code",
   "execution_count": 448,
   "id": "a03667fd-7a15-48e6-99be-83f2d2eda8e4",
   "metadata": {},
   "outputs": [],
   "source": [
    "model_api.fine_tune(frames['original'])"
   ]
  },
  {
   "cell_type": "code",
   "execution_count": 457,
   "id": "a915c54f-de92-4892-b27f-70383ca305bc",
   "metadata": {},
   "outputs": [
    {
     "name": "stderr",
     "output_type": "stream",
     "text": [
      "100%|██████████| 128/128 [00:00<00:00, 130.15it/s]\n"
     ]
    }
   ],
   "source": [
    "for frame_i in tqdm(range(N_NON_PREDICTED_FRAMES, frameCount), total=frameCount-N_NON_PREDICTED_FRAMES):\n",
    "#     if frame_i > 10: break\n",
    "    \n",
    "    next_frame = frames['original'][frame_i]\n",
    "    prev_frame = frames['original'][frame_i-N_NON_PREDICTED_FRAMES]\n",
    "    predicted_next_frame = model_api.predict(frames['original'][:frame_i])\n",
    "    \n",
    "    frames['original_prev'][frame_i] = prev_frame\n",
    "    frames['predicted'][frame_i] = predicted_next_frame\n",
    "    \n",
    "    frames['original_diffs'][frame_i] = next_frame - prev_frame\n",
    "    frames['predicted_diffs'][frame_i] = next_frame - predicted_next_frame\n",
    "\n",
    "    \n"
   ]
  },
  {
   "cell_type": "markdown",
   "id": "fbba04cf-6436-488a-8978-1ff19c807b20",
   "metadata": {},
   "source": [
    "### Show"
   ]
  },
  {
   "cell_type": "code",
   "execution_count": 451,
   "id": "506d35cd-8b1c-49e0-bc68-61f138e1d8d4",
   "metadata": {},
   "outputs": [
    {
     "data": {
      "text/plain": [
       "-1"
      ]
     },
     "execution_count": 451,
     "metadata": {},
     "output_type": "execute_result"
    }
   ],
   "source": [
    "COMP_WINDOW_NAME = 'Compression Demo'\n",
    "VID_PER_ROW = 3\n",
    "\n",
    "\n",
    "cv2.namedWindow(COMP_WINDOW_NAME)\n",
    "\n",
    "for frame_i in range(frameCount):\n",
    "    if frame_i > 10: break\n",
    "    v =[]\n",
    "    keys = list(frames.keys())\n",
    "    \n",
    "    for k_i in range(math.ceil(len(keys)/VID_PER_ROW)):\n",
    "        \n",
    "        v.append(\n",
    "            cv2.hconcat([\n",
    "                add_title(\n",
    "                        frames[keys[k_i*VID_PER_ROW + i]][frame_i],\n",
    "                        f\"{keys[k_i*VID_PER_ROW + i]} ({frame_i})\"\n",
    "                    )\n",
    "                for i in range(VID_PER_ROW)\n",
    "            ])        \n",
    "        )\n",
    "        \n",
    "    p = cv2.vconcat(v)\n",
    "    cv2.imshow(COMP_WINDOW_NAME, p)\n",
    "\n",
    "    cv2.waitKey(0)\n",
    "\n",
    "cv2.destroyWindow(COMP_WINDOW_NAME)\n",
    "\n",
    "cv2.waitKey(1)"
   ]
  },
  {
   "cell_type": "markdown",
   "id": "be08149e-695f-4816-9235-4a89d5f1b05f",
   "metadata": {},
   "source": [
    "## Decompression"
   ]
  },
  {
   "cell_type": "code",
   "execution_count": 452,
   "id": "d0ba0b95-d2ad-4169-908e-9a3cc154e392",
   "metadata": {},
   "outputs": [],
   "source": [
    "calculated_frames = np.empty((frameCount, frameHeight, frameWidth, 3), np.dtype('uint8'))"
   ]
  },
  {
   "cell_type": "raw",
   "id": "9bc69015-0c06-4303-a46a-9f0dbb2975b8",
   "metadata": {},
   "source": [
    "Filling the unpredicted frames"
   ]
  },
  {
   "cell_type": "code",
   "execution_count": 453,
   "id": "7f8d9fde-203c-47d5-abc6-1c7ba4ba7307",
   "metadata": {},
   "outputs": [
    {
     "name": "stderr",
     "output_type": "stream",
     "text": [
      "100%|██████████| 4/4 [00:00<00:00, 489.53it/s]\n"
     ]
    }
   ],
   "source": [
    "for frame_i in tqdm(range(0, N_NON_PREDICTED_FRAMES), total=N_NON_PREDICTED_FRAMES): \n",
    "    calculated_frames[frame_i] = frames['original'][frame_i]"
   ]
  },
  {
   "cell_type": "code",
   "execution_count": 456,
   "id": "1983f968-3e5c-49fe-bf87-9a424f02ef9a",
   "metadata": {},
   "outputs": [
    {
     "name": "stderr",
     "output_type": "stream",
     "text": [
      "100%|██████████| 128/128 [00:00<00:00, 159.24it/s]\n"
     ]
    }
   ],
   "source": [
    "for frame_i in tqdm(range(N_NON_PREDICTED_FRAMES, frameCount), total=frameCount-N_NON_PREDICTED_FRAMES):\n",
    "#     if frame_i > 10: break\n",
    "    \n",
    "    next_frame = frames['original'][frame_i]\n",
    "    prev_frame = frames['original'][frame_i-N_NON_PREDICTED_FRAMES]\n",
    "    \n",
    "    predicted_next_frame = model_api.predict(calculated_frames[:frame_i])\n",
    "    calculated_frames[frame_i] = predicted_next_frame + frames['predicted_diffs'][frame_i]\n",
    "\n"
   ]
  },
  {
   "cell_type": "markdown",
   "id": "d3fe3fb9-c52f-4cbe-b936-bf596dca0a4c",
   "metadata": {},
   "source": [
    "Asserting that the compression worked"
   ]
  },
  {
   "cell_type": "code",
   "execution_count": 464,
   "id": "5109cd46-abfc-465e-8df1-61fac884ce10",
   "metadata": {},
   "outputs": [],
   "source": [
    "assert (calculated_frames == frames['original']).all()"
   ]
  },
  {
   "cell_type": "markdown",
   "id": "b31f88b5-ca83-40d0-a929-48d45507f7bc",
   "metadata": {},
   "source": [
    "# Evaluation"
   ]
  },
  {
   "cell_type": "code",
   "execution_count": 485,
   "id": "98a865fa-aeec-4a05-8e82-153f06b7d4e8",
   "metadata": {},
   "outputs": [],
   "source": [
    "compress_frames_keys = ['original', 'predicted_diffs', 'original_diffs']"
   ]
  },
  {
   "cell_type": "code",
   "execution_count": 486,
   "id": "e590cc66-ca90-4354-b715-15247927dc1d",
   "metadata": {},
   "outputs": [],
   "source": [
    "compress_frames = {\n",
    "    k:frames[k]\n",
    "    for k in compress_frames_keys\n",
    "}"
   ]
  },
  {
   "cell_type": "markdown",
   "id": "0ec2f98f-be5f-457f-a7b0-8c74f483329f",
   "metadata": {},
   "source": [
    "For more information about params https://trac.ffmpeg.org/wiki/Encode/H.264#Howdothedifferentpresetsinfluenceencodingtime"
   ]
  },
  {
   "cell_type": "code",
   "execution_count": 505,
   "id": "15d55596-0d04-4283-9b65-6d8b77e868ba",
   "metadata": {},
   "outputs": [],
   "source": [
    "output_params = {\"-vcodec\":\"libx264\", \"-crf\": 0, \"-preset\": \"veryslow\"} #define (Codec,CRF,preset) FFmpeg tweak parameters for writer"
   ]
  },
  {
   "cell_type": "code",
   "execution_count": 506,
   "id": "a1161597-b305-42a2-85e2-a3e06ad83bcc",
   "metadata": {},
   "outputs": [
    {
     "name": "stderr",
     "output_type": "stream",
     "text": [
      "\u001b[01;36m18:27:48 :: \u001b[01;34mWriteGear\u001b[0m :: \u001b[01;33mDEBUG\u001b[0m :: Compression Mode is enabled therefore checking for valid FFmpeg executables.\u001b[0m\n",
      "\u001b[01;36m18:27:48 :: \u001b[01;34mWriteGear\u001b[0m :: \u001b[01;33mDEBUG\u001b[0m :: Output Parameters: {'-vcodec': 'libx264', '-crf': 0, '-preset': 'veryslow'}\u001b[0m\n",
      "\u001b[01;36m18:27:48 :: \u001b[01;34mHelper\u001b[0m :: \u001b[01;33mDEBUG\u001b[0m :: Final FFmpeg Path: ffmpeg\u001b[0m\n",
      "\u001b[01;36m18:27:48 :: \u001b[01;34mHelper\u001b[0m :: \u001b[01;33mDEBUG\u001b[0m :: FFmpeg validity Test Passed!\u001b[0m\n",
      "\u001b[01;36m18:27:48 :: \u001b[01;34mHelper\u001b[0m :: \u001b[01;33mDEBUG\u001b[0m :: Found valid FFmpeg Version: `b'4.4'` installed on this system\u001b[0m\n",
      "\u001b[01;36m18:27:48 :: \u001b[01;34mWriteGear\u001b[0m :: \u001b[01;33mDEBUG\u001b[0m :: Found valid FFmpeg executables: `ffmpeg`.\u001b[0m\n",
      "\u001b[01;36m18:27:48 :: \u001b[01;34mWriteGear\u001b[0m :: \u001b[01;33mDEBUG\u001b[0m :: Compression Mode is configured properly!\u001b[0m\n",
      "\u001b[01;36m18:27:48 :: \u001b[01;34mWriteGear\u001b[0m :: \u001b[01;33mDEBUG\u001b[0m :: Compression Mode is enabled therefore checking for valid FFmpeg executables.\u001b[0m\n",
      "\u001b[01;36m18:27:48 :: \u001b[01;34mWriteGear\u001b[0m :: \u001b[01;33mDEBUG\u001b[0m :: Output Parameters: {'-vcodec': 'libx264', '-crf': 0, '-preset': 'veryslow'}\u001b[0m\n",
      "\u001b[01;36m18:27:48 :: \u001b[01;34mHelper\u001b[0m :: \u001b[01;33mDEBUG\u001b[0m :: Final FFmpeg Path: ffmpeg\u001b[0m\n",
      "\u001b[01;36m18:27:48 :: \u001b[01;34mHelper\u001b[0m :: \u001b[01;33mDEBUG\u001b[0m :: FFmpeg validity Test Passed!\u001b[0m\n",
      "\u001b[01;36m18:27:48 :: \u001b[01;34mHelper\u001b[0m :: \u001b[01;33mDEBUG\u001b[0m :: Found valid FFmpeg Version: `b'4.4'` installed on this system\u001b[0m\n",
      "\u001b[01;36m18:27:48 :: \u001b[01;34mWriteGear\u001b[0m :: \u001b[01;33mDEBUG\u001b[0m :: Found valid FFmpeg executables: `ffmpeg`.\u001b[0m\n",
      "\u001b[01;36m18:27:48 :: \u001b[01;34mWriteGear\u001b[0m :: \u001b[01;33mDEBUG\u001b[0m :: Compression Mode is configured properly!\u001b[0m\n",
      "\u001b[01;36m18:27:48 :: \u001b[01;34mWriteGear\u001b[0m :: \u001b[01;33mDEBUG\u001b[0m :: Compression Mode is enabled therefore checking for valid FFmpeg executables.\u001b[0m\n",
      "\u001b[01;36m18:27:48 :: \u001b[01;34mWriteGear\u001b[0m :: \u001b[01;33mDEBUG\u001b[0m :: Output Parameters: {'-vcodec': 'libx264', '-crf': 0, '-preset': 'veryslow'}\u001b[0m\n",
      "\u001b[01;36m18:27:48 :: \u001b[01;34mHelper\u001b[0m :: \u001b[01;33mDEBUG\u001b[0m :: Final FFmpeg Path: ffmpeg\u001b[0m\n",
      "\u001b[01;36m18:27:48 :: \u001b[01;34mHelper\u001b[0m :: \u001b[01;33mDEBUG\u001b[0m :: FFmpeg validity Test Passed!\u001b[0m\n",
      "\u001b[01;36m18:27:48 :: \u001b[01;34mHelper\u001b[0m :: \u001b[01;33mDEBUG\u001b[0m :: Found valid FFmpeg Version: `b'4.4'` installed on this system\u001b[0m\n",
      "\u001b[01;36m18:27:48 :: \u001b[01;34mWriteGear\u001b[0m :: \u001b[01;33mDEBUG\u001b[0m :: Found valid FFmpeg executables: `ffmpeg`.\u001b[0m\n",
      "\u001b[01;36m18:27:48 :: \u001b[01;34mWriteGear\u001b[0m :: \u001b[01;33mDEBUG\u001b[0m :: Compression Mode is configured properly!\u001b[0m\n"
     ]
    }
   ],
   "source": [
    "compress_frames_writers = {\n",
    "    k: WriteGear(\n",
    "        output_filename = f'{k}.mp4',\n",
    "        compression_mode = True,\n",
    "        logging = True,\n",
    "        **output_params\n",
    "    )\n",
    "    for k in compress_frames_keys\n",
    "}"
   ]
  },
  {
   "cell_type": "code",
   "execution_count": 507,
   "id": "2e428b88-7ea8-4835-bb2a-c3cf5fd4065c",
   "metadata": {},
   "outputs": [
    {
     "name": "stderr",
     "output_type": "stream",
     "text": [
      "  0%|          | 0/128 [00:00<?, ?it/s]\u001b[01;36m18:27:49 :: \u001b[01;34mWriteGear\u001b[0m :: \u001b[01;33mDEBUG\u001b[0m :: InputFrame => Height:720 Width:1280 Channels:3\u001b[0m\n",
      "\u001b[01;36m18:27:49 :: \u001b[01;34mWriteGear\u001b[0m :: \u001b[01;33mDEBUG\u001b[0m :: Executing FFmpeg command: `ffmpeg -y -f rawvideo -vcodec rawvideo -s 1280x720 -pix_fmt bgr24 -i - -vcodec libx264 -crf 0 -preset veryslow /Users/nirendy/school-repo/nn-based-video-compression/notebooks/original.mp4`\u001b[0m\n",
      "\u001b[01;36m18:27:49 :: \u001b[01;34mWriteGear\u001b[0m :: \u001b[01;33mDEBUG\u001b[0m :: InputFrame => Height:720 Width:1280 Channels:3\u001b[0m\n",
      "\u001b[01;36m18:27:49 :: \u001b[01;34mWriteGear\u001b[0m :: \u001b[01;33mDEBUG\u001b[0m :: Executing FFmpeg command: `ffmpeg -y -f rawvideo -vcodec rawvideo -s 1280x720 -pix_fmt bgr24 -i - -vcodec libx264 -crf 0 -preset veryslow /Users/nirendy/school-repo/nn-based-video-compression/notebooks/predicted_diffs.mp4`\u001b[0m\n",
      "\u001b[01;36m18:27:49 :: \u001b[01;34mWriteGear\u001b[0m :: \u001b[01;33mDEBUG\u001b[0m :: InputFrame => Height:720 Width:1280 Channels:3\u001b[0m\n",
      "\u001b[01;36m18:27:49 :: \u001b[01;34mWriteGear\u001b[0m :: \u001b[01;33mDEBUG\u001b[0m :: Executing FFmpeg command: `ffmpeg -y -f rawvideo -vcodec rawvideo -s 1280x720 -pix_fmt bgr24 -i - -vcodec libx264 -crf 0 -preset veryslow /Users/nirendy/school-repo/nn-based-video-compression/notebooks/original_diffs.mp4`\u001b[0m\n",
      "100%|██████████| 128/128 [00:45<00:00,  2.80it/s]\n",
      "\u001b[01;36m18:28:35 :: \u001b[01;34mWriteGear\u001b[0m :: \u001b[01;33mDEBUG\u001b[0m :: Terminating WriteGear Processes.\u001b[0m\n",
      "\u001b[01;36m18:28:36 :: \u001b[01;34mWriteGear\u001b[0m :: \u001b[01;33mDEBUG\u001b[0m :: Terminating WriteGear Processes.\u001b[0m\n",
      "\u001b[01;36m18:28:37 :: \u001b[01;34mWriteGear\u001b[0m :: \u001b[01;33mDEBUG\u001b[0m :: Terminating WriteGear Processes.\u001b[0m\n"
     ]
    }
   ],
   "source": [
    "for frame_i in tqdm(range(N_NON_PREDICTED_FRAMES, frameCount), total=frameCount-N_NON_PREDICTED_FRAMES):\n",
    "    for k in compress_frames_keys:\n",
    "        compress_frames_writers[k].write(compress_frames[k][frame_i])\n",
    "        \n",
    "for writer in compress_frames_writers.values():\n",
    "    writer.close()"
   ]
  },
  {
   "cell_type": "markdown",
   "id": "b0dee356-4679-4b5a-8a82-897dad8401f8",
   "metadata": {},
   "source": [
    "{\"-vcodec\":\"libx264\", \"-crf\": 0, \"-preset\": \"veryslow\"}"
   ]
  },
  {
   "cell_type": "code",
   "execution_count": 508,
   "id": "a758a00f-aa8d-4d66-83c0-a4176730adfc",
   "metadata": {
    "jupyter": {
     "source_hidden": true
    },
    "tags": []
   },
   "outputs": [
    {
     "name": "stdout",
     "output_type": "stream",
     "text": [
      "Size of file 'original' is 34 Mb\n",
      "Size of file 'predicted_diffs' is 139 Mb\n",
      "Size of file 'original_diffs' is 113 Mb\n",
      "Size of file 'source' is 1 Mb\n"
     ]
    }
   ],
   "source": [
    "for k in compress_frames_keys + ['source']:\n",
    "    if k=='source':\n",
    "        size = os.path.getsize(f'../video_examples/SampleVideo_1280x720_1mb.mp4')\n",
    "    else:\n",
    "        size = os.path.getsize(f'{k}.mp4')\n",
    "        \n",
    "    size = size // 10**6\n",
    "    print(f\"Size of file '{k}' is {size} Mb\")\n",
    "    "
   ]
  },
  {
   "cell_type": "markdown",
   "id": "2cb11f35-6829-46ed-9320-24f72df4f286",
   "metadata": {},
   "source": [
    "{\"-vcodec\":\"libx264\", \"-crf\": 0, \"-preset\": \"fast\"}"
   ]
  },
  {
   "cell_type": "code",
   "execution_count": 504,
   "id": "3c622248-529e-40b2-82ef-028c26d360f4",
   "metadata": {
    "jupyter": {
     "source_hidden": true
    },
    "tags": []
   },
   "outputs": [
    {
     "name": "stdout",
     "output_type": "stream",
     "text": [
      "Size of file 'original' is 34 Mb\n",
      "Size of file 'predicted_diffs' is 145 Mb\n",
      "Size of file 'original_diffs' is 114 Mb\n",
      "Size of file 'source' is 1 Mb\n"
     ]
    }
   ],
   "source": [
    "for k in compress_frames_keys + ['source']:\n",
    "    if k=='source':\n",
    "        size = os.path.getsize(f'../video_examples/SampleVideo_1280x720_1mb.mp4')\n",
    "    else:\n",
    "        size = os.path.getsize(f'{k}.mp4')\n",
    "        \n",
    "    size = size // 10**6\n",
    "    print(f\"Size of file '{k}' is {size} Mb\")\n",
    "    "
   ]
  },
  {
   "cell_type": "markdown",
   "id": "c4a257b4-17e1-4d32-ab3a-a34dc8ade9bc",
   "metadata": {},
   "source": [
    "No compression"
   ]
  },
  {
   "cell_type": "code",
   "execution_count": 499,
   "id": "7061b3c1-9322-49db-a3e2-87e60b5e1438",
   "metadata": {},
   "outputs": [
    {
     "name": "stdout",
     "output_type": "stream",
     "text": [
      "Size of file 'original' is 15 Mb\n",
      "Size of file 'predicted_diffs' is 95 Mb\n",
      "Size of file 'original_diffs' is 74 Mb\n",
      "Size of file 'source' is 1 Mb\n"
     ]
    }
   ],
   "source": [
    "for k in compress_frames_keys + ['source']:\n",
    "    if k=='source':\n",
    "        size = os.path.getsize(f'../video_examples/SampleVideo_1280x720_1mb.mp4')\n",
    "    else:\n",
    "        size = os.path.getsize(f'{k}.mp4')\n",
    "        \n",
    "    size = size // 10**6\n",
    "    print(f\"Size of file '{k}' is {size} Mb\")\n",
    "    "
   ]
  },
  {
   "cell_type": "code",
   "execution_count": null,
   "id": "ce35b741-6a7b-402a-84a0-44681fb0f169",
   "metadata": {},
   "outputs": [],
   "source": []
  }
 ],
 "metadata": {
  "kernelspec": {
   "display_name": "Python 3",
   "language": "python",
   "name": "python3"
  },
  "language_info": {
   "codemirror_mode": {
    "name": "ipython",
    "version": 3
   },
   "file_extension": ".py",
   "mimetype": "text/x-python",
   "name": "python",
   "nbconvert_exporter": "python",
   "pygments_lexer": "ipython3",
   "version": "3.6.7"
  }
 },
 "nbformat": 4,
 "nbformat_minor": 5
}
